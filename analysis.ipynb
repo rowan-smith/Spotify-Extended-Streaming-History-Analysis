{
 "cells": [
  {
   "cell_type": "markdown",
   "metadata": {
    "scrolled": true
   },
   "source": [
    "# Spotify Extended Streaming History Analysis"
   ]
  },
  {
   "cell_type": "markdown",
   "metadata": {},
   "source": [
    "## Import Relevant Libraries"
   ]
  },
  {
   "cell_type": "code",
   "metadata": {},
   "source": [
    "import calendar\n",
    "from pathlib import Path\n",
    "\n",
    "import pandas as pd\n",
    "import plotly.express as px"
   ],
   "outputs": [],
   "execution_count": null
  },
  {
   "cell_type": "markdown",
   "metadata": {},
   "source": [
    "## Load and Combine Json Files"
   ]
  },
  {
   "metadata": {},
   "cell_type": "code",
   "source": [
    "folder = \"MyData\"\n",
    "paths = Path(folder).glob(\"*.json\")\n",
    "dfs = [pd.read_json(p) for p in paths]\n",
    "\n",
    "df_raw = pd.concat(dfs, axis=0)\n",
    "df_raw.head()"
   ],
   "outputs": [],
   "execution_count": null
  },
  {
   "metadata": {},
   "cell_type": "markdown",
   "source": "# Define Utilities"
  },
  {
   "metadata": {},
   "cell_type": "code",
   "source": [
    "def format_timedelta(td):\n",
    "    days = td.days\n",
    "    hours, rem = divmod(td.seconds, 3600)\n",
    "    minutes, seconds = divmod(rem, 60)\n",
    "    return \"{}d {}h {}m {}s\".format(days, hours, minutes, seconds)"
   ],
   "outputs": [],
   "execution_count": null
  },
  {
   "cell_type": "markdown",
   "metadata": {},
   "source": [
    "## Clean and format data"
   ]
  },
  {
   "cell_type": "code",
   "metadata": {},
   "source": [
    "# MyData types\n",
    "df_raw.dtypes"
   ],
   "outputs": [],
   "execution_count": null
  },
  {
   "cell_type": "code",
   "metadata": {},
   "source": [
    "# Drop redundant columns\n",
    "df = df_raw.drop([\n",
    "    'username',\n",
    "    'platform', \n",
    "    'conn_country',\n",
    "    'ip_addr_decrypted', \n",
    "    'user_agent_decrypted',\n",
    "    'episode_show_name',\n",
    "    'episode_name',\n",
    "    'spotify_episode_uri',\n",
    "    'incognito_mode'], axis=1)\n",
    "\n",
    "# rename existing columns\n",
    "df.rename(columns = {\n",
    "    'master_metadata_track_name':'track_name',\n",
    "    'master_metadata_album_artist_name':'artist_name',\n",
    "    'master_metadata_album_album_name':'album_name'\n",
    "}, inplace = True)\n",
    "\n",
    "df.head()"
   ],
   "outputs": [],
   "execution_count": null
  },
  {
   "cell_type": "code",
   "metadata": {},
   "source": [
    "# convert MyData to relevant types\n",
    "df.ts = pd.to_datetime(df.ts)\n",
    "\n",
    "df.dtypes"
   ],
   "outputs": [],
   "execution_count": null
  },
  {
   "cell_type": "markdown",
   "metadata": {},
   "source": [
    "## Earliest Listened Song"
   ]
  },
  {
   "cell_type": "code",
   "metadata": {},
   "source": [
    "earliest_song = df.iloc[df.ts.argmin()]\n",
    "earliest_song.to_frame().T.reset_index(drop=True)"
   ],
   "outputs": [],
   "execution_count": null
  },
  {
   "cell_type": "markdown",
   "metadata": {},
   "source": [
    "## Latest Listened Song"
   ]
  },
  {
   "cell_type": "code",
   "metadata": {},
   "source": [
    "latest_song = df.iloc[df.ts.argmax()]\n",
    "latest_song.to_frame().T.reset_index(drop=True)"
   ],
   "outputs": [],
   "execution_count": null
  },
  {
   "cell_type": "markdown",
   "metadata": {},
   "source": "## Top 10 Listened Songs "
  },
  {
   "cell_type": "code",
   "metadata": {},
   "source": [
    "# Group the MyData by track and artist and calculate the number of plays and total play time\n",
    "top_songs = df.groupby(['track_name', 'artist_name']).agg({'ms_played': ['count', 'sum']})\n",
    "top_songs.columns = ['num_plays', 'total_ms_played']\n",
    "\n",
    "# Convert ms to minutes\n",
    "top_songs['total_time_pd'] = pd.to_timedelta(top_songs['total_ms_played'], unit='ms')\n",
    "top_songs['total_time_str'] = top_songs['total_time_pd'].apply(format_timedelta)\n",
    "\n",
    "# Reset the index to turn the track and artist name into columns\n",
    "top_songs.reset_index(inplace=True)\n",
    "\n",
    "# Sort the MyData by number of plays in descending order\n",
    "# sort by num_plays or ms_played?\n",
    "top_songs = top_songs.sort_values(by='num_plays', ascending=False)\n",
    "top_songs.reset_index(inplace=True, drop=True)\n",
    "\n",
    "top_songs = top_songs.head(10)\n",
    "\n",
    "fig = px.bar(top_songs,\n",
    "             y='track_name',\n",
    "             x='num_plays',\n",
    "             hover_data=['num_plays', 'artist_name', 'total_time_str'],\n",
    "             labels={'num_plays': 'Number of Plays', 'track_name': 'Track', 'artist_name': 'Artist', 'total_time_str': 'Total Playtime'},\n",
    "             orientation='h',\n",
    "             title='Top 10 Songs',\n",
    "             template='plotly_dark')\n",
    "\n",
    "fig.update_layout(yaxis=dict(autorange=\"reversed\"),\n",
    "                  plot_bgcolor='rgba(0,0,0,0)',\n",
    "                  paper_bgcolor='rgba(0,0,0,0)')\n",
    "\n",
    "fig.show()"
   ],
   "outputs": [],
   "execution_count": null
  },
  {
   "cell_type": "markdown",
   "metadata": {},
   "source": "## Top 10 Listened Artists by Count"
  },
  {
   "cell_type": "code",
   "metadata": {},
   "source": [
    "# Group by artist_name and calculate listens count and total playtime\n",
    "artist_stats = df.groupby('artist_name').agg({'ms_played': 'sum', 'track_name': 'count'}) .rename(columns={'ms_played': 'total_ms_played', 'track_name': 'listen_count'})\n",
    "\n",
    "# Convert ms to minutes\n",
    "artist_stats['total_time_pd'] = pd.to_timedelta(artist_stats['total_ms_played'], unit='ms')\n",
    "artist_stats['total_time_str'] = artist_stats['total_time_pd'].apply(format_timedelta)\n",
    "\n",
    "# Get top artists by listens count\n",
    "top_artists = artist_stats.sort_values(by='listen_count', ascending=False).head(10).reset_index()\n",
    "\n",
    "fig = px.bar(top_artists,\n",
    "             y='artist_name',\n",
    "             x='listen_count',\n",
    "             orientation='h',\n",
    "             title='Top 10 Artists',\n",
    "             labels={'listen_count': 'Listens', 'artist_name': 'Artist', 'total_time_str': 'Total Playtime'},\n",
    "             hover_data=['listen_count', 'total_time_str'],\n",
    "             template='plotly_dark')\n",
    "\n",
    "fig.update_layout(yaxis=dict(autorange=\"reversed\"),\n",
    "                  plot_bgcolor='rgba(0,0,0,0)',\n",
    "                  paper_bgcolor='rgba(0,0,0,0)')\n",
    "\n",
    "fig.show()"
   ],
   "outputs": [],
   "execution_count": null
  },
  {
   "cell_type": "markdown",
   "metadata": {},
   "source": "# Top 10 Listened Songs by Count"
  },
  {
   "cell_type": "code",
   "metadata": {},
   "source": [
    "year_min = df.ts.min().year\n",
    "year_max = df.ts.max().year\n",
    "\n",
    "for year in range(year_min, year_max + 1):\n",
    "    top_songs_by_year = df.loc[df.ts.between(f'{year}-01-01', f'{year}-12-31')]\n",
    "    top_songs_by_year = top_songs_by_year.groupby(['track_name', 'artist_name']).agg(\n",
    "        {'ms_played': 'sum', 'track_name': 'count'}) \\\n",
    "        .rename(columns={'ms_played': 'total_ms_played', 'track_name': 'listen_count'}).sort_values(by='listen_count',\n",
    "                                                                                                    ascending=False)\n",
    "    top_songs_by_year.reset_index(inplace=True)\n",
    "\n",
    "    # Convert ms to a readable format\n",
    "    top_songs_by_year['total_time_pd'] = pd.to_timedelta(top_songs_by_year['total_ms_played'], unit='ms')\n",
    "    top_songs_by_year['total_time_str'] = top_songs_by_year['total_time_pd'].apply(format_timedelta)\n",
    "\n",
    "    top_songs_by_year = top_songs_by_year.head(10)\n",
    "\n",
    "    fig = px.bar(top_songs_by_year,\n",
    "                 y=\"track_name\",\n",
    "                 x=\"listen_count\",\n",
    "                 orientation='h',\n",
    "                 title=f\"Top 10 Songs for the Year {year}\",\n",
    "                 labels={'listen_count': 'Listens', 'track_name': 'Song', 'artist_name': 'Artist',\n",
    "                         'total_time_str': 'Total Playtime'},\n",
    "                 hover_data=['listen_count', 'artist_name', 'total_time_str'],\n",
    "                 # include total playtime in the hover data\n",
    "                 template='plotly_dark')\n",
    "\n",
    "    fig.update_layout(yaxis=dict(autorange=\"reversed\"),\n",
    "                      plot_bgcolor='rgba(0,0,0,0)',\n",
    "    paper_bgcolor = 'rgba(0,0,0,0)')\n",
    "\n",
    "    fig.show()"
   ],
   "outputs": [],
   "execution_count": null
  },
  {
   "cell_type": "markdown",
   "metadata": {},
   "source": "# Top 10 Listened Artists by Year and Count"
  },
  {
   "cell_type": "code",
   "metadata": {},
   "source": [
    "for year in range(year_min, year_max + 1):\n",
    "    # Filter entries for each year\n",
    "    artists_by_year = df[df['ts'].dt.year == year]\n",
    "    # Calculate listen count and total_ms_played for each artist\n",
    "    top_artists_by_year = artists_by_year.groupby('artist_name').agg({'ms_played': 'sum', 'track_name': 'count'})\n",
    "    top_artists_by_year = top_artists_by_year.rename(\n",
    "        columns={'ms_played': 'total_ms_played', 'track_name': 'listen_count'})\n",
    "    top_artists_by_year = top_artists_by_year.sort_values(by='listen_count', ascending=False)\n",
    "\n",
    "    # Convert total playtime from milliseconds to a readable format\n",
    "    top_artists_by_year['total_time_pd'] = pd.to_timedelta(top_artists_by_year['total_ms_played'], unit='ms')\n",
    "    top_artists_by_year['total_time_str'] = top_artists_by_year['total_time_pd'].apply(format_timedelta)\n",
    "\n",
    "    # Take top 10 artists\n",
    "    top_artists_by_year = top_artists_by_year.head(10).reset_index()\n",
    "\n",
    "    # Create a plotly figure \n",
    "    fig = px.bar(top_artists_by_year,\n",
    "                 y=\"artist_name\",\n",
    "                 x=\"listen_count\",\n",
    "                 orientation='h',\n",
    "                 title=f\"Top 10 Artists for the Year {year}\",\n",
    "                 labels={'listen_count': 'Listens', 'artist_name': 'Artists', 'total_time_str': 'Total Playtime'},\n",
    "                 hover_data=['listen_count', 'total_time_str'],\n",
    "                 # Display the exact listen count and total playtime on hover\n",
    "                 template='plotly_dark')  # Use the 'plotly_dark' template\n",
    "\n",
    "    fig.update_layout(yaxis=dict(autorange=\"reversed\"),\n",
    "                      plot_bgcolor='rgba(0,0,0,0)',\n",
    "                      paper_bgcolor='rgba(0,0,0,0)')\n",
    "\n",
    "    fig.show()"
   ],
   "outputs": [],
   "execution_count": null
  },
  {
   "cell_type": "markdown",
   "metadata": {},
   "source": [
    "# Song Listens Timeline"
   ]
  },
  {
   "cell_type": "code",
   "metadata": {},
   "source": [
    "df.ts = pd.to_datetime(df.ts)  # assuming ts is in datetime format\n",
    "df['date'] = df.ts.dt.date\n",
    "\n",
    "# Count the song plays per date\n",
    "songs_by_date = df.groupby(df.date)['ts'].size().reset_index(name='listen_count')\n",
    "\n",
    "# Determine the 'most listened' song for each day\n",
    "most_listened_song_per_day = df.groupby(['date', 'track_name', 'artist_name']).size().reset_index(name='count')\n",
    "most_listened_song_per_day = most_listened_song_per_day.sort_values('count', ascending=False).drop_duplicates(['date'])\n",
    "\n",
    "# Add a new column combining song and artist\n",
    "most_listened_song_per_day['song_artist'] = most_listened_song_per_day['track_name'] + \" - \" + \\\n",
    "                                            most_listened_song_per_day['artist_name']\n",
    "\n",
    "# Merge dataframes\n",
    "songs_by_date = pd.merge(songs_by_date, most_listened_song_per_day[['date', 'song_artist']], on='date', how='left')\n",
    "\n",
    "fig = px.line(songs_by_date,\n",
    "              x='date',\n",
    "              y='listen_count',\n",
    "              title=f'Song Listens Timeline ({year_min} - {year_max})',\n",
    "              hover_data=['song_artist'],\n",
    "              labels={'date': 'Date', 'listen_count': 'Total Listens', 'song_artist': 'Most Listened Song'},\n",
    "              template='plotly_dark')\n",
    "\n",
    "fig.update_layout(plot_bgcolor='rgba(0,0,0,0)', paper_bgcolor='rgba(0,0,0,0)')\n",
    "\n",
    "fig.show()"
   ],
   "outputs": [],
   "execution_count": null
  },
  {
   "cell_type": "markdown",
   "metadata": {},
   "source": [
    "# What Years do you Listen to the Most Songs?"
   ]
  },
  {
   "cell_type": "code",
   "metadata": {},
   "source": [
    "df.ts = pd.to_datetime(df.ts)  # assuming ts is in datetime format\n",
    "df['year'] = df.ts.dt.year\n",
    "\n",
    "# Count the song plays per year\n",
    "songs_by_year = df.groupby(df.year).size().reset_index(name='listen_count')\n",
    "\n",
    "# Determine the 'most listened' song for each year\n",
    "most_listened_song_per_year = df.groupby(['year', 'track_name', 'artist_name']).size().reset_index(name='count')\n",
    "most_listened_song_per_year = most_listened_song_per_year.sort_values('count', ascending=False).drop_duplicates(\n",
    "    ['year'])\n",
    "\n",
    "# Add a new column combining song and artist\n",
    "most_listened_song_per_year['song_artist'] = most_listened_song_per_year['track_name'] + \" - \" + \\\n",
    "                                             most_listened_song_per_year['artist_name']\n",
    "\n",
    "# Merge dataframes\n",
    "songs_by_year = pd.merge(songs_by_year, most_listened_song_per_year[['year', 'song_artist']], on='year', how='left')\n",
    "\n",
    "fig = px.line(songs_by_year,\n",
    "              x='year',\n",
    "              y='listen_count',\n",
    "              title=f'Total Song Listens by Year  ({year_min} - {year_max})',\n",
    "              hover_data=['song_artist'],\n",
    "              labels={'year': 'Year', 'listen_count': 'Listens', 'song_artist': 'Most Listened Song'},\n",
    "              template='plotly_dark')\n",
    "\n",
    "fig.update_layout(plot_bgcolor='rgba(0,0,0,0)', paper_bgcolor='rgba(0,0,0,0)', xaxis=dict(dtick=1))\n",
    "\n",
    "fig.show()"
   ],
   "outputs": [],
   "execution_count": null
  },
  {
   "cell_type": "markdown",
   "metadata": {},
   "source": [
    "# What Months do you Listen to the Most Songs?"
   ]
  },
  {
   "cell_type": "code",
   "metadata": {},
   "source": [
    "df.ts = pd.to_datetime(df.ts)  # assuming ts is in datetime format\n",
    "df['year'] = df.ts.dt.year\n",
    "df['month'] = df.ts.dt.month_name()\n",
    "\n",
    "# Count the song plays per month for each year\n",
    "songs_by_month = df.groupby(['year', 'month']).size().reset_index(name='listen_count')\n",
    "\n",
    "# Determine the 'most listened' song for each month of each year\n",
    "most_listened_song_per_month = df.groupby(['year', 'month', 'track_name', 'artist_name']).size().reset_index(\n",
    "    name='count')\n",
    "most_listened_song_per_month = most_listened_song_per_month.sort_values('count', ascending=False).drop_duplicates(\n",
    "    ['year', 'month'])\n",
    "\n",
    "# Add a new column combining song and artist\n",
    "most_listened_song_per_month['song_artist'] = most_listened_song_per_month['track_name'] + \" - \" + \\\n",
    "                                              most_listened_song_per_month['artist_name']\n",
    "\n",
    "# Merge dataframes\n",
    "songs_by_month = pd.merge(songs_by_month, most_listened_song_per_month[['year', 'month', 'song_artist']],\n",
    "                          on=['year', 'month'], how='left')\n",
    "\n",
    "# Create a new column 'year_month' for the plot\n",
    "songs_by_month['year_month'] = songs_by_month['year'].astype(str) + \" - \" + songs_by_month['month']\n",
    "\n",
    "pix = px.line(songs_by_month, x='year_month', y='listen_count',\n",
    "              title=f'Total Song Listens by Month ({year_min} - {year_max})',\n",
    "              hover_data=['song_artist'], template='plotly_dark',\n",
    "              labels={'year_month': 'Month', 'listen_count': 'Listens', 'song_artist': 'Most Listened Song'})\n",
    "\n",
    "pix.update_layout(plot_bgcolor='rgba(0,0,0,0)', paper_bgcolor='rgba(0,0,0,0)')\n",
    "pix.show()"
   ],
   "outputs": [],
   "execution_count": null
  },
  {
   "metadata": {},
   "cell_type": "code",
   "source": [
    "df.ts = pd.to_datetime(df.ts)  # assuming ts is in datetime format\n",
    "df['month'] = df.ts.dt.month\n",
    "\n",
    "# Count the song plays by month over all years\n",
    "songs_by_month = df.groupby(df.month).size().reset_index(name='listen_count')\n",
    "\n",
    "# Determine the 'most listened' song for each month over all years\n",
    "most_listened_song_per_month = df.groupby(['month', 'track_name', 'artist_name']).size().reset_index(name='count')\n",
    "most_listened_song_per_month = most_listened_song_per_month.sort_values('count', ascending=False).drop_duplicates(\n",
    "    ['month'])\n",
    "\n",
    "# Add a new column combining song and artist\n",
    "most_listened_song_per_month['song_artist'] = most_listened_song_per_month['track_name'] + \" - \" + \\\n",
    "                                              most_listened_song_per_month['artist_name']\n",
    "\n",
    "# Create a dictionary to map month numbers to names\n",
    "month_dict = {i: month for i, month in enumerate(calendar.month_name[1:], start=1)}\n",
    "\n",
    "# Replace month numbers with names in both dataframes\n",
    "songs_by_month['month'] = songs_by_month['month'].replace(month_dict)\n",
    "most_listened_song_per_month['month'] = most_listened_song_per_month['month'].replace(month_dict)\n",
    "\n",
    "# Merge the dataframes on the 'month' field\n",
    "songs_by_month = pd.merge(songs_by_month, most_listened_song_per_month[['month', 'song_artist']], on='month',\n",
    "                          how='left')\n",
    "\n",
    "# Generate a plot\n",
    "fig = px.line(songs_by_month,\n",
    "              x='month',\n",
    "              y='listen_count',\n",
    "              title=f'Total Song Listens by Month (Cumulative)',\n",
    "              hover_data=['song_artist'],\n",
    "              labels={'month': 'Month', 'listen_count': 'Listen Count', 'song_artist': 'Top Song'},\n",
    "              template='plotly_dark')\n",
    "\n",
    "fig.update_layout(plot_bgcolor='rgba(0,0,0,0)', paper_bgcolor='rgba(0,0,0,0)', xaxis=dict(dtick=1))\n",
    "\n",
    "fig.show()"
   ],
   "outputs": [],
   "execution_count": null
  },
  {
   "cell_type": "markdown",
   "metadata": {},
   "source": [
    "# What Days do you Listen to the Most Songs?"
   ]
  },
  {
   "cell_type": "code",
   "metadata": {},
   "source": [
    "df.ts = pd.to_datetime(df.ts)  # assuming ts is in datetime format\n",
    "df['day'] = df.ts.dt.day\n",
    "\n",
    "# Count the song plays per day over all years\n",
    "songs_by_day = df.groupby(['day']).size().reset_index(name='listen_count')\n",
    "\n",
    "# Determine the 'most listened' song for each day over all years\n",
    "most_listened_song_per_day = df.groupby(['day', 'track_name', 'artist_name']).size().reset_index(name='count')\n",
    "most_listened_song_per_day = most_listened_song_per_day.sort_values('count', ascending=False).drop_duplicates(['day'])\n",
    "\n",
    "# Add a new column combining song and artist\n",
    "most_listened_song_per_day['song_artist'] = most_listened_song_per_day['track_name'] + \" - \" + \\\n",
    "                                            most_listened_song_per_day['artist_name']\n",
    "\n",
    "# Merge the dataframes on the 'day' field\n",
    "songs_by_day = pd.merge(songs_by_day, most_listened_song_per_day[['day', 'song_artist']], on='day', how='left')\n",
    "\n",
    "# Generate a plot\n",
    "fig = px.line(songs_by_day,\n",
    "              x='day',\n",
    "              y='listen_count',\n",
    "              title=f'Total Song Listens by Day (Cumulative)',\n",
    "              hover_data=['song_artist'],\n",
    "              labels={'day': 'Day of the Month', 'listen_count': 'Listen Count', 'song_artist': 'Top Song'},\n",
    "              template='plotly_dark')\n",
    "\n",
    "fig.update_layout(plot_bgcolor='rgba(0,0,0,0)', paper_bgcolor='rgba(0,0,0,0)', xaxis=dict(dtick=1))\n",
    "\n",
    "fig.show()"
   ],
   "outputs": [],
   "execution_count": null
  },
  {
   "cell_type": "code",
   "metadata": {},
   "source": [
    "df_dates = pd.DataFrame()\n",
    "df_dates['period'] = df['ts'].dt.tz_localize(None).dt.to_period('M').dt.to_timestamp()\n",
    "df_dates['ms_played'] = df['ms_played']\n",
    "\n",
    "df_resampled = df_dates.groupby('period')['ms_played'].sum().reset_index()\n",
    "df_resampled['year'] = df_resampled['period'].dt.year\n",
    "df_resampled['month'] = df_resampled['period'].dt.strftime('%Y-%m')  # convert 'period' to string\n",
    "\n",
    "fig = px.line(df_resampled,\n",
    "              x='month',\n",
    "              y='ms_played',\n",
    "              color=df_resampled['year'].astype(str),\n",
    "              labels={\n",
    "                  'ms_played': 'Total Play Time (ms)',\n",
    "                  'month': 'Month',\n",
    "              },\n",
    "              title='Listening History Over the Years')\n",
    "\n",
    "fig.update_layout(template='plotly_dark', plot_bgcolor='rgba(0,0,0,0)', paper_bgcolor='rgba(0,0,0,0)')\n",
    "fig.show()"
   ],
   "outputs": [],
   "execution_count": null
  },
  {
   "cell_type": "code",
   "metadata": {},
   "source": [
    "df_ = df.set_index('ts')\n",
    "\n",
    "# Calculate the total number of full listens per day\n",
    "full_listens_per_day = df_[df_['reason_end'] == 'trackdone']['ms_played'].resample('D').sum() / 30e3\n",
    "\n",
    "# Calculate the total number of skipped tracks per day\n",
    "skipped_tracks_per_day = df_[df_['skipped'] == True]['skipped'].resample('D').sum()\n",
    "\n",
    "# Calculate the average full listens per day and skipped tracks per day\n",
    "avg_full_listens_per_day = full_listens_per_day.mean()\n",
    "avg_skipped_tracks_per_day = skipped_tracks_per_day.mean()\n",
    "\n",
    "# Print the results\n",
    "print(f'Average full listens per day: {avg_full_listens_per_day}')\n",
    "print(f'Average skipped tracks per day: {avg_skipped_tracks_per_day}')"
   ],
   "outputs": [],
   "execution_count": null
  },
  {
   "cell_type": "code",
   "metadata": {},
   "source": [
    "# Calculate the total number of full listens\n",
    "full_listens = df_[df_['reason_end'] == 'trackdone']['ms_played'].count()\n",
    "\n",
    "# Calculate the total number of skipped tracks\n",
    "skipped_tracks = df_[df_['skipped'] == False]['skipped'].count()\n",
    "\n",
    "# Calculate the ratio of skipped tracks to full listens\n",
    "skipped_to_full_ratio = skipped_tracks / full_listens\n",
    "\n",
    "# Print the result\n",
    "print('Ratio of skipped tracks to full listens:', skipped_to_full_ratio)\n"
   ],
   "outputs": [],
   "execution_count": null
  },
  {
   "cell_type": "code",
   "metadata": {},
   "source": [
    "# Sort the DataFrame by timestamp\n",
    "df_ = df.sort_values('ts')\n",
    "\n",
    "# Calculate the time difference between each row and the previous row\n",
    "df_['time_diff'] = df_['ts'].diff()\n",
    "\n",
    "# Calculate the time difference in seconds\n",
    "df_['time_diff_sec'] = df_['time_diff'].dt.total_seconds()\n",
    "\n",
    "# Create a mask for rows where the reason_start is not null\n",
    "mask = df_['reason_start'].notnull()\n",
    "\n",
    "# Calculate the time spent listening for each session\n",
    "df_.loc[mask, 'session_time'] = df_.loc[mask, 'time_diff_sec']\n",
    "\n",
    "# Forward-fill the session_time column to fill in the null values with the time spent listening in the previous row\n",
    "df_['session_time'] = df_['session_time'].ffill()\n",
    "\n",
    "# Group the DataFrame by session and calculate the total time spent listening in each session\n",
    "session_times = df_.groupby('session_time')['ms_played'].sum() / 1000\n",
    "\n",
    "# Calculate the average length of listening session\n",
    "avg_session_length = session_times.mean()\n",
    "\n",
    "# Print the result\n",
    "print('Average length of listening session:', avg_session_length, 'seconds')\n"
   ],
   "outputs": [],
   "execution_count": null
  },
  {
   "cell_type": "code",
   "metadata": {},
   "source": [
    "# Count the number of songs listened to for each hour of the day\n",
    "hour_counts = df['ts'].dt.hour.value_counts()\n",
    "\n",
    "# Find the most popular time of day for listening\n",
    "most_popular_time = hour_counts.idxmax()\n",
    "\n",
    "print('The most popular time of day for listening is:', most_popular_time, 'o\\'clock')\n"
   ],
   "outputs": [],
   "execution_count": null
  },
  {
   "cell_type": "code",
   "metadata": {},
   "source": [
    "df_ = df.set_index('ts')\n",
    "\n",
    "# Create a new column combining song and artist\n",
    "df_['track_artist'] = df_['track_name'] + \" - \" + df_['artist_name']\n",
    "\n",
    "# Calculate total ms_played for each hour\n",
    "songs_by_hour = df_.groupby(df_.index.hour)['ms_played'].count()\n",
    "\n",
    "# Calculate most played track for each hour\n",
    "most_played_track_per_hour = \\\n",
    "df_.groupby([df_.index.hour, 'track_artist'])['ms_played'].count().groupby(level=0).idxmax().str[1]\n",
    "\n",
    "# Combine both DFs into one\n",
    "songs_by_hour_df = pd.DataFrame({\n",
    "    'ms_played': songs_by_hour.values,\n",
    "    'Most Played Track': most_played_track_per_hour.values\n",
    "}, index=songs_by_hour.index)\n",
    "\n",
    "# Create the bar chart with hover text\n",
    "fig = px.bar(songs_by_hour_df, x=songs_by_hour_df.index, y='ms_played',\n",
    "             hover_data=['Most Played Track'],\n",
    "             labels={'ts': 'Hour of the Day', 'ms_played': 'Listens'}\n",
    "             )\n",
    "\n",
    "fig.update_layout(\n",
    "    title='Most Popular Time of Day for Listening (Cumulative)',\n",
    "    xaxis_title='Hour of the Day',\n",
    "    yaxis_title='Number of Songs Listened',\n",
    "    template='plotly_dark',\n",
    "    plot_bgcolor='rgba(0, 0, 0, 0)',\n",
    "    paper_bgcolor='rgba(0, 0, 0, 0)',\n",
    "    xaxis=dict(dtick=1)\n",
    ")\n",
    "\n",
    "ig.show()"
   ],
   "outputs": [],
   "execution_count": null
  },
  {
   "cell_type": "code",
   "metadata": {},
   "source": [],
   "outputs": [],
   "execution_count": null
  }
 ],
 "metadata": {
  "kernelspec": {
   "display_name": "Python 3 (ipykernel)",
   "language": "python",
   "name": "python3"
  },
  "language_info": {
   "codemirror_mode": {
    "name": "ipython",
    "version": 3
   },
   "file_extension": ".py",
   "mimetype": "text/x-python",
   "name": "python",
   "nbconvert_exporter": "python",
   "pygments_lexer": "ipython3",
   "version": "3.11.0"
  }
 },
 "nbformat": 4,
 "nbformat_minor": 4
}
